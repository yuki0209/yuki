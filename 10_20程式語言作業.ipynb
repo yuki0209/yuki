{
  "nbformat": 4,
  "nbformat_minor": 0,
  "metadata": {
    "colab": {
      "provenance": []
    },
    "kernelspec": {
      "name": "python3",
      "display_name": "Python 3"
    },
    "language_info": {
      "name": "python"
    }
  },
  "cells": [
    {
      "cell_type": "code",
      "execution_count": null,
      "metadata": {
        "colab": {
          "base_uri": "https://localhost:8080/"
        },
        "id": "WK85YU2k-FTo",
        "outputId": "823a1d32-f26c-4d03-a30d-ea1aa77edcd2"
      },
      "outputs": [
        {
          "output_type": "stream",
          "name": "stdout",
          "text": [
            "1 x 1 =1\n",
            "1 x 2 =2\n",
            "1 x 3 =3\n",
            "1 x 4 =4\n",
            "1 x 5 =5\n",
            "1 x 6 =6\n",
            "1 x 7 =7\n",
            "1 x 8 =8\n",
            "2 x 1 =2\n",
            "2 x 2 =4\n",
            "2 x 3 =6\n",
            "2 x 4 =8\n",
            "2 x 5 =10\n",
            "2 x 6 =12\n",
            "2 x 7 =14\n",
            "2 x 8 =16\n",
            "3 x 1 =3\n",
            "3 x 2 =6\n",
            "3 x 3 =9\n",
            "3 x 4 =12\n",
            "3 x 5 =15\n",
            "3 x 6 =18\n",
            "3 x 7 =21\n",
            "3 x 8 =24\n",
            "4 x 1 =4\n",
            "4 x 2 =8\n",
            "4 x 3 =12\n",
            "4 x 4 =16\n",
            "4 x 5 =20\n",
            "4 x 6 =24\n",
            "4 x 7 =28\n",
            "4 x 8 =32\n",
            "5 x 1 =5\n",
            "5 x 2 =10\n",
            "5 x 3 =15\n",
            "5 x 4 =20\n",
            "5 x 5 =25\n",
            "5 x 6 =30\n",
            "5 x 7 =35\n",
            "5 x 8 =40\n",
            "6 x 1 =6\n",
            "6 x 2 =12\n",
            "6 x 3 =18\n",
            "6 x 4 =24\n",
            "6 x 5 =30\n",
            "6 x 6 =36\n",
            "6 x 7 =42\n",
            "6 x 8 =48\n",
            "7 x 1 =7\n",
            "7 x 2 =14\n",
            "7 x 3 =21\n",
            "7 x 4 =28\n",
            "7 x 5 =35\n",
            "7 x 6 =42\n",
            "7 x 7 =49\n",
            "7 x 8 =56\n",
            "8 x 1 =8\n",
            "8 x 2 =16\n",
            "8 x 3 =24\n",
            "8 x 4 =32\n",
            "8 x 5 =40\n",
            "8 x 6 =48\n",
            "8 x 7 =56\n",
            "8 x 8 =64\n"
          ]
        }
      ],
      "source": [
        "for i in range(1,9):\n",
        "  for j in range(1,9):\n",
        "    product=i*j\n",
        "    print(f\"{i} x {j} ={product}\")"
      ]
    },
    {
      "cell_type": "code",
      "source": [
        "import random\n",
        "target_number = random.randint(1, 100)\n",
        "print(\"歡迎參加猜數字遊戲！\")\n",
        "\n",
        "while True:\n",
        "  user_input=int(input(\"請輸入一個1-100之間的整數\"))\n",
        "  if user_input>target_number:\n",
        "    print(\"數字太大啦在猜一次\")\n",
        "    continue\n",
        "  elif user_input<target_number:\n",
        "    print(\"數字太小啦在猜一次\")\n",
        "    continue\n",
        "  else:\n",
        "    print(\"遊戲結束。\")\n",
        "    break\n"
      ],
      "metadata": {
        "colab": {
          "base_uri": "https://localhost:8080/"
        },
        "id": "_7IwANNc_Oqb",
        "outputId": "d1ef4e83-3179-4260-ec63-1e3d11bed5c7"
      },
      "execution_count": null,
      "outputs": [
        {
          "output_type": "stream",
          "name": "stdout",
          "text": [
            "歡迎參加猜數字遊戲！\n",
            "請輸入一個1-100之間的整數31\n",
            "數字太大啦在猜一次\n",
            "請輸入一個1-100之間的整數22\n",
            "數字太大啦在猜一次\n",
            "請輸入一個1-100之間的整數15\n",
            "數字太大啦在猜一次\n",
            "請輸入一個1-100之間的整數3\n",
            "數字太小啦在猜一次\n",
            "請輸入一個1-100之間的整數7\n",
            "數字太小啦在猜一次\n",
            "請輸入一個1-100之間的整數10\n",
            "數字太小啦在猜一次\n",
            "請輸入一個1-100之間的整數13\n",
            "遊戲結束。\n"
          ]
        }
      ]
    }
  ]
}