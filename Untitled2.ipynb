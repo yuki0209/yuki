{
  "nbformat": 4,
  "nbformat_minor": 0,
  "metadata": {
    "colab": {
      "provenance": []
    },
    "kernelspec": {
      "name": "python3",
      "display_name": "Python 3"
    },
    "language_info": {
      "name": "python"
    }
  },
  "cells": [
    {
      "cell_type": "code",
      "execution_count": 6,
      "metadata": {
        "colab": {
          "base_uri": "https://localhost:8080/"
        },
        "id": "mpJwA1Ly5eJD",
        "outputId": "8c44d0b2-2b83-486d-c506-f4bc39329b9c"
      },
      "outputs": [
        {
          "output_type": "stream",
          "name": "stdout",
          "text": [
            "郭昱岑\n",
            "<class 'str'>\n",
            "B1205033\n",
            "<class 'str'>\n",
            "['郭昱岑']\n",
            "['B1205033']\n"
          ]
        }
      ],
      "source": [
        "x='郭昱岑'\n",
        "print(x)\n",
        "print(type(x))\n",
        "y='B1205033'\n",
        "print(y)\n",
        "print(type(y))\n",
        "name=[\"郭昱岑\"]\n",
        "print(name)\n",
        "ID=[\"B1205033\"]\n",
        "print(ID)"
      ]
    }
  ]
}