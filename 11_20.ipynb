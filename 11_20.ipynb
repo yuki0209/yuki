{
  "nbformat": 4,
  "nbformat_minor": 0,
  "metadata": {
    "colab": {
      "provenance": []
    },
    "kernelspec": {
      "name": "python3",
      "display_name": "Python 3"
    },
    "language_info": {
      "name": "python"
    }
  },
  "cells": [
    {
      "cell_type": "code",
      "source": [
        "import torch\n",
        "import torchvision.transforms as transforms\n",
        "from PIL import Image\n",
        "import requests\n",
        "from io import BytesIO\n",
        "import matplotlib.pyplot as plt\n",
        "\n",
        "# 函數從網址加載圖片\n",
        "def load_image(url):\n",
        "    response = requests.get(url)\n",
        "    return Image.open(BytesIO(response.content))\n",
        "\n",
        "# 定義變換\n",
        "transforms_dict = {\n",
        "    \"Original Image\": None,\n",
        "    \"Resized\": transforms.Resize((520, 360)),\n",
        "    \"Center Cropped\": transforms.CenterCrop(350),\n",
        "    \"Color Jittered\": transforms.ColorJitter(brightness=1, contrast=1, saturation=1),\n",
        "    \"Horizontally Flipped\": transforms.RandomHorizontalFlip(p=1),\n",
        "    \"Randomly Rotated\": transforms.RandomRotation(90)\n",
        "}\n",
        "\n",
        "# 加載圖片\n",
        "img_url = 'https://www.niusnews.com/upload/imgs/default/yukikuo/titan/titan1.jpg'\n",
        "img = load_image(img_url)\n",
        "\n",
        "# 準備繪圖\n",
        "fig, ax = plt.subplots(1, 6, figsize=(15, 5))  # 1 row，6 column\n",
        "\n",
        "# 繪製和顯示變換後的圖像\n",
        "for i, (title, transform) in enumerate(transforms_dict.items()):\n",
        "    transformed_img = img\n",
        "    if transform:\n",
        "        transformed_img = transform(transformed_img)\n",
        "    ax[i].imshow(transformed_img)\n",
        "    ax[i].set_title(title)\n",
        "    ax[i].axis('off')\n",
        "\n",
        "plt.tight_layout()\n",
        "plt.show()"
      ],
      "metadata": {
        "id": "7gWOeHLb919Q"
      },
      "execution_count": null,
      "outputs": []
    },
    {
      "cell_type": "markdown",
      "source": [],
      "metadata": {
        "id": "_IwxF_u17RSw"
      }
    }
  ]
}